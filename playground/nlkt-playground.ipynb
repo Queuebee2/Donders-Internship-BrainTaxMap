{
 "metadata": {
  "language_info": {
   "codemirror_mode": {
    "name": "ipython",
    "version": 3
   },
   "file_extension": ".py",
   "mimetype": "text/x-python",
   "name": "python",
   "nbconvert_exporter": "python",
   "pygments_lexer": "ipython3",
   "version": "3.7.9-final"
  },
  "orig_nbformat": 2,
  "kernelspec": {
   "name": "python3",
   "display_name": "Python 3.7.9 64-bit",
   "metadata": {
    "interpreter": {
     "hash": "1ff2b6ed0a51ab022b632206d48523afb6ec81bd1d01ead9187b9b4e7a621aef"
    }
   }
  }
 },
 "nbformat": 4,
 "nbformat_minor": 2,
 "cells": [
  {
   "source": [
    "!python -m pip install -U nltk\n",
    "!python -m pip install -U spacy\n",
    "!python -m spacy download en_core_web_sm"
   ],
   "cell_type": "code",
   "metadata": {},
   "execution_count": 31,
   "outputs": [
    {
     "output_type": "stream",
     "name": "stdout",
     "text": [
      "Requirement already up-to-date: nltk in c:\\users\\milai\\appdata\\local\\programs\\python\\python37\\lib\\site-packages (3.5)\n",
      "Requirement already satisfied, skipping upgrade: click in c:\\users\\milai\\appdata\\local\\programs\\python\\python37\\lib\\site-packages (from nltk) (7.1.2)\n",
      "Requirement already satisfied, skipping upgrade: joblib in c:\\users\\milai\\appdata\\local\\programs\\python\\python37\\lib\\site-packages (from nltk) (0.17.0)\n",
      "Requirement already satisfied, skipping upgrade: regex in c:\\users\\milai\\appdata\\local\\programs\\python\\python37\\lib\\site-packages (from nltk) (2020.11.13)\n",
      "Requirement already satisfied, skipping upgrade: tqdm in c:\\users\\milai\\appdata\\local\\programs\\python\\python37\\lib\\site-packages (from nltk) (4.54.1)\n",
      "WARNING: You are using pip version 20.1.1; however, version 20.3.1 is available.\n",
      "You should consider upgrading via the 'C:\\Users\\Milai\\AppData\\Local\\Programs\\Python\\Python37\\python.exe -m pip install --upgrade pip' command.\n",
      "Requirement already up-to-date: spacy in c:\\users\\milai\\appdata\\local\\programs\\python\\python37\\lib\\site-packages (2.3.4)\n",
      "Requirement already satisfied, skipping upgrade: tqdm<5.0.0,>=4.38.0 in c:\\users\\milai\\appdata\\local\\programs\\python\\python37\\lib\\site-packages (from spacy) (4.54.1)\n",
      "Requirement already satisfied, skipping upgrade: thinc<7.5.0,>=7.4.1 in c:\\users\\milai\\appdata\\local\\programs\\python\\python37\\lib\\site-packages (from spacy) (7.4.4)\n",
      "Requirement already satisfied, skipping upgrade: requests<3.0.0,>=2.13.0 in c:\\users\\milai\\appdata\\local\\programs\\python\\python37\\lib\\site-packages (from spacy) (2.25.0)\n",
      "Requirement already satisfied, skipping upgrade: blis<0.8.0,>=0.4.0; python_version >= \"3.6\" in c:\\users\\milai\\appdata\\local\\programs\\python\\python37\\lib\\site-packages (from spacy) (0.7.4)\n",
      "Requirement already satisfied, skipping upgrade: preshed<3.1.0,>=3.0.2 in c:\\users\\milai\\appdata\\local\\programs\\python\\python37\\lib\\site-packages (from spacy) (3.0.5)\n",
      "Requirement already satisfied, skipping upgrade: wasabi<1.1.0,>=0.4.0 in c:\\users\\milai\\appdata\\local\\programs\\python\\python37\\lib\\site-packages (from spacy) (0.8.0)\n",
      "Requirement already satisfied, skipping upgrade: srsly<1.1.0,>=1.0.2 in c:\\users\\milai\\appdata\\local\\programs\\python\\python37\\lib\\site-packages (from spacy) (1.0.5)\n",
      "Requirement already satisfied, skipping upgrade: plac<1.2.0,>=0.9.6 in c:\\users\\milai\\appdata\\local\\programs\\python\\python37\\lib\\site-packages (from spacy) (1.1.3)\n",
      "Requirement already satisfied, skipping upgrade: murmurhash<1.1.0,>=0.28.0 in c:\\users\\milai\\appdata\\local\\programs\\python\\python37\\lib\\site-packages (from spacy) (1.0.5)\n",
      "Requirement already satisfied, skipping upgrade: setuptools in c:\\users\\milai\\appdata\\local\\programs\\python\\python37\\lib\\site-packages (from spacy) (47.1.0)\n",
      "Requirement already satisfied, skipping upgrade: cymem<2.1.0,>=2.0.2 in c:\\users\\milai\\appdata\\local\\programs\\python\\python37\\lib\\site-packages (from spacy) (2.0.5)\n",
      "Requirement already satisfied, skipping upgrade: catalogue<1.1.0,>=0.0.7 in c:\\users\\milai\\appdata\\local\\programs\\python\\python37\\lib\\site-packages (from spacy) (1.0.0)\n",
      "Requirement already satisfied, skipping upgrade: numpy>=1.15.0 in c:\\users\\milai\\appdata\\local\\programs\\python\\python37\\lib\\site-packages (from spacy) (1.19.4)\n",
      "Requirement already satisfied, skipping upgrade: urllib3<1.27,>=1.21.1 in c:\\users\\milai\\appdata\\local\\programs\\python\\python37\\lib\\site-packages (from requests<3.0.0,>=2.13.0->spacy) (1.26.2)\n",
      "Requirement already satisfied, skipping upgrade: certifi>=2017.4.17 in c:\\users\\milai\\appdata\\local\\programs\\python\\python37\\lib\\site-packages (from requests<3.0.0,>=2.13.0->spacy) (2020.12.5)\n",
      "Requirement already satisfied, skipping upgrade: idna<3,>=2.5 in c:\\users\\milai\\appdata\\local\\programs\\python\\python37\\lib\\site-packages (from requests<3.0.0,>=2.13.0->spacy) (2.10)\n",
      "Requirement already satisfied, skipping upgrade: chardet<4,>=3.0.2 in c:\\users\\milai\\appdata\\local\\programs\\python\\python37\\lib\\site-packages (from requests<3.0.0,>=2.13.0->spacy) (3.0.4)\n",
      "Requirement already satisfied, skipping upgrade: importlib-metadata>=0.20; python_version < \"3.8\" in c:\\users\\milai\\appdata\\roaming\\python\\python37\\site-packages (from catalogue<1.1.0,>=0.0.7->spacy) (2.0.0)\n",
      "Requirement already satisfied, skipping upgrade: zipp>=0.5 in c:\\users\\milai\\appdata\\roaming\\python\\python37\\site-packages (from importlib-metadata>=0.20; python_version < \"3.8\"->catalogue<1.1.0,>=0.0.7->spacy) (3.3.1)\n",
      "WARNING: You are using pip version 20.1.1; however, version 20.3.1 is available.\n",
      "You should consider upgrading via the 'C:\\Users\\Milai\\AppData\\Local\\Programs\\Python\\Python37\\python.exe -m pip install --upgrade pip' command.\n",
      "Requirement already satisfied: en_core_web_sm==2.3.1 from https://github.com/explosion/spacy-models/releases/download/en_core_web_sm-2.3.1/en_core_web_sm-2.3.1.tar.gz#egg=en_core_web_sm==2.3.1 in c:\\users\\milai\\appdata\\local\\programs\\python\\python37\\lib\\site-packages (2.3.1)\n",
      "Requirement already satisfied: spacy<2.4.0,>=2.3.0 in c:\\users\\milai\\appdata\\local\\programs\\python\\python37\\lib\\site-packages (from en_core_web_sm==2.3.1) (2.3.4)\n",
      "Requirement already satisfied: preshed<3.1.0,>=3.0.2 in c:\\users\\milai\\appdata\\local\\programs\\python\\python37\\lib\\site-packages (from spacy<2.4.0,>=2.3.0->en_core_web_sm==2.3.1) (3.0.5)\n",
      "Requirement already satisfied: tqdm<5.0.0,>=4.38.0 in c:\\users\\milai\\appdata\\local\\programs\\python\\python37\\lib\\site-packages (from spacy<2.4.0,>=2.3.0->en_core_web_sm==2.3.1) (4.54.1)\n",
      "Requirement already satisfied: wasabi<1.1.0,>=0.4.0 in c:\\users\\milai\\appdata\\local\\programs\\python\\python37\\lib\\site-packages (from spacy<2.4.0,>=2.3.0->en_core_web_sm==2.3.1) (0.8.0)\n",
      "Requirement already satisfied: blis<0.8.0,>=0.4.0; python_version >= \"3.6\" in c:\\users\\milai\\appdata\\local\\programs\\python\\python37\\lib\\site-packages (from spacy<2.4.0,>=2.3.0->en_core_web_sm==2.3.1) (0.7.4)\n",
      "Requirement already satisfied: srsly<1.1.0,>=1.0.2 in c:\\users\\milai\\appdata\\local\\programs\\python\\python37\\lib\\site-packages (from spacy<2.4.0,>=2.3.0->en_core_web_sm==2.3.1) (1.0.5)\n",
      "Requirement already satisfied: numpy>=1.15.0 in c:\\users\\milai\\appdata\\local\\programs\\python\\python37\\lib\\site-packages (from spacy<2.4.0,>=2.3.0->en_core_web_sm==2.3.1) (1.19.4)\n",
      "Requirement already satisfied: thinc<7.5.0,>=7.4.1 in c:\\users\\milai\\appdata\\local\\programs\\python\\python37\\lib\\site-packages (from spacy<2.4.0,>=2.3.0->en_core_web_sm==2.3.1) (7.4.4)\n",
      "Requirement already satisfied: cymem<2.1.0,>=2.0.2 in c:\\users\\milai\\appdata\\local\\programs\\python\\python37\\lib\\site-packages (from spacy<2.4.0,>=2.3.0->en_core_web_sm==2.3.1) (2.0.5)\n",
      "Requirement already satisfied: murmurhash<1.1.0,>=0.28.0 in c:\\users\\milai\\appdata\\local\\programs\\python\\python37\\lib\\site-packages (from spacy<2.4.0,>=2.3.0->en_core_web_sm==2.3.1) (1.0.5)\n",
      "Requirement already satisfied: catalogue<1.1.0,>=0.0.7 in c:\\users\\milai\\appdata\\local\\programs\\python\\python37\\lib\\site-packages (from spacy<2.4.0,>=2.3.0->en_core_web_sm==2.3.1) (1.0.0)\n",
      "Requirement already satisfied: requests<3.0.0,>=2.13.0 in c:\\users\\milai\\appdata\\local\\programs\\python\\python37\\lib\\site-packages (from spacy<2.4.0,>=2.3.0->en_core_web_sm==2.3.1) (2.25.0)\n",
      "Requirement already satisfied: plac<1.2.0,>=0.9.6 in c:\\users\\milai\\appdata\\local\\programs\\python\\python37\\lib\\site-packages (from spacy<2.4.0,>=2.3.0->en_core_web_sm==2.3.1) (1.1.3)\n",
      "Requirement already satisfied: setuptools in c:\\users\\milai\\appdata\\local\\programs\\python\\python37\\lib\\site-packages (from spacy<2.4.0,>=2.3.0->en_core_web_sm==2.3.1) (47.1.0)\n",
      "Requirement already satisfied: importlib-metadata>=0.20; python_version < \"3.8\" in c:\\users\\milai\\appdata\\roaming\\python\\python37\\site-packages (from catalogue<1.1.0,>=0.0.7->spacy<2.4.0,>=2.3.0->en_core_web_sm==2.3.1) (2.0.0)\n",
      "Requirement already satisfied: chardet<4,>=3.0.2 in c:\\users\\milai\\appdata\\local\\programs\\python\\python37\\lib\\site-packages (from requests<3.0.0,>=2.13.0->spacy<2.4.0,>=2.3.0->en_core_web_sm==2.3.1) (3.0.4)\n",
      "Requirement already satisfied: urllib3<1.27,>=1.21.1 in c:\\users\\milai\\appdata\\local\\programs\\python\\python37\\lib\\site-packages (from requests<3.0.0,>=2.13.0->spacy<2.4.0,>=2.3.0->en_core_web_sm==2.3.1) (1.26.2)\n",
      "Requirement already satisfied: certifi>=2017.4.17 in c:\\users\\milai\\appdata\\local\\programs\\python\\python37\\lib\\site-packages (from requests<3.0.0,>=2.13.0->spacy<2.4.0,>=2.3.0->en_core_web_sm==2.3.1) (2020.12.5)\n",
      "Requirement already satisfied: idna<3,>=2.5 in c:\\users\\milai\\appdata\\local\\programs\\python\\python37\\lib\\site-packages (from requests<3.0.0,>=2.13.0->spacy<2.4.0,>=2.3.0->en_core_web_sm==2.3.1) (2.10)\n",
      "Requirement already satisfied: zipp>=0.5 in c:\\users\\milai\\appdata\\roaming\\python\\python37\\site-packages (from importlib-metadata>=0.20; python_version < \"3.8\"->catalogue<1.1.0,>=0.0.7->spacy<2.4.0,>=2.3.0->en_core_web_sm==2.3.1) (3.3.1)\n",
      "✔ Download and installation successful\n",
      "You can now load the model via spacy.load('en_core_web_sm')\n",
      "WARNING: You are using pip version 20.1.1; however, version 20.3.1 is available.\n",
      "You should consider upgrading via the 'C:\\Users\\Milai\\AppData\\Local\\Programs\\Python\\Python37\\python.exe -m pip install --upgrade pip' command.\n"
     ]
    }
   ]
  },
  {
   "cell_type": "code",
   "execution_count": 18,
   "metadata": {},
   "outputs": [
    {
     "output_type": "stream",
     "name": "stderr",
     "text": [
      "[nltk_data] Downloading package punkt to\n",
      "[nltk_data]     C:\\Users\\Milai\\AppData\\Roaming\\nltk_data...\n",
      "[nltk_data]   Package punkt is already up-to-date!\n",
      "[nltk_data] Downloading package averaged_perceptron_tagger to\n",
      "[nltk_data]     C:\\Users\\Milai\\AppData\\Roaming\\nltk_data...\n",
      "[nltk_data]   Unzipping taggers\\averaged_perceptron_tagger.zip.\n"
     ]
    },
    {
     "output_type": "execute_result",
     "data": {
      "text/plain": [
       "True"
      ]
     },
     "metadata": {},
     "execution_count": 18
    }
   ],
   "source": [
    "nltk.download('punkt')\n",
    "nltk.download('averaged_perceptron_tagger')"
   ]
  },
  {
   "cell_type": "code",
   "execution_count": 2,
   "metadata": {},
   "outputs": [],
   "source": [
    "abstract = \"\"\"Toll-like receptor 4 (TLR4) is a crucial receptor in the innate immune system, and increasing evidence supports its role in inflammation, stress, and tissue injury, including injury to the lung and brain. We aimed to investigate the effects of TLR4 on neuroinflammation due to the lung-brain interaction in mechanically ventilated mice. Male wild-type (WT) C57BL/6 and TLR4 knockout (TLR4 KO) mice were divided into three groups: (1) control group (C): spontaneous breathing; (2) anesthesia group (A): spontaneous breathing under anesthesia; and (3) mechanical ventilation group (MV): 6h of MV under anesthesia. The behavioral responses of mice were tested with fear conditioning tests. The histological changes in the lung and brain were assessed using hematoxylin-eosin (HE) staining. The level of TLR4 mRNA \n",
    "in tissue was measured using reverse transcription-polymerase chain reaction (RT-PCR). The levels of inflammatory cytokines were measured with an enzyme-linked immunosorbent assay (ELISA). Microgliosis, astrocytosis, and the TLR4 immunoreactivity in the hippocampus were measured by double immunofluorescence. MV mice exhibited \n",
    "impaired cognition, and this impairment was less severe in TLR4 KO mice than in WT mice. In WT mice, MV increased TLR4 mRNA expression in the lung and brain. MV induced mild lung injury, which was prevented in TLR4 KO mice. MV mice exhibited increased levels of inflammatory cytokines, increased microglia and astrocyte activation. Microgliosis was alleviated in TLR4 KO mice. MV mice exhibited increased TLR4 immunoreactivity, which was expressed in microglia and astrocytes. These results demonstrate that TLR4 is involved in neuroinflammation due to the lung-brain interaction and that TLR4 KO ameliorates neuroinflammation due to lung-brain interaction after prolonged MV. In addition, Administration of a TLR4 antagonist (100mug/mice) to WT mice also significantly attenuated neuroinflammation of lung-brain interaction due to prolonged MV. TLR4 antagonism may be a new and novel approach for the treatment and management of neuroinflammation in long-term mechanically ventilated patients.\"\"\"\n",
    "\n",
    "key_sentence = \"\"\". These results demonstrate that TLR4 is involved in neuroinflammation due to the lung-brain interaction and that TLR4 KO ameliorates neuroinflammation due to lung-brain interaction after prolonged MV\"\"\""
   ]
  },
  {
   "source": [
    "# Using NLTK\n",
    "Pos Tags \n",
    "\n",
    "<style type=\"text/css\">\n",
    ".tg  {border-collapse:collapse;border-spacing:0;}\n",
    ".tg td{border-color:black;border-style:solid;border-width:1px;font-family:Arial, sans-serif;font-size:14px;\n",
    "  overflow:hidden;padding:10px 5px;word-break:normal;}\n",
    ".tg th{border-color:black;border-style:solid;border-width:1px;font-family:Arial, sans-serif;font-size:14px;\n",
    "  font-weight:normal;overflow:hidden;padding:10px 5px;word-break:normal;}\n",
    ".tg .tg-0pky{border-color:inherit;text-align:left;vertical-align:top}\n",
    "</style>\n",
    "<table class=\"tg\">\n",
    "<thead>\n",
    "  <tr>\n",
    "    <th class=\"tg-0pky\">Abbreviation </th>\n",
    "    <th class=\"tg-0pky\">Meaning </th>\n",
    "  </tr>\n",
    "</thead>\n",
    "<tbody>\n",
    "  <tr>\n",
    "    <td class=\"tg-0pky\">CC </td>\n",
    "    <td class=\"tg-0pky\">coordinating conjunction </td>\n",
    "  </tr>\n",
    "  <tr>\n",
    "    <td class=\"tg-0pky\">CD </td>\n",
    "    <td class=\"tg-0pky\">cardinal digit </td>\n",
    "  </tr>\n",
    "  <tr>\n",
    "    <td class=\"tg-0pky\">DT </td>\n",
    "    <td class=\"tg-0pky\">determiner </td>\n",
    "  </tr>\n",
    "  <tr>\n",
    "    <td class=\"tg-0pky\">EX </td>\n",
    "    <td class=\"tg-0pky\">existential there </td>\n",
    "  </tr>\n",
    "  <tr>\n",
    "    <td class=\"tg-0pky\">FW </td>\n",
    "    <td class=\"tg-0pky\">foreign word </td>\n",
    "  </tr>\n",
    "  <tr>\n",
    "    <td class=\"tg-0pky\">IN </td>\n",
    "    <td class=\"tg-0pky\">preposition/subordinating conjunction </td>\n",
    "  </tr>\n",
    "  <tr>\n",
    "    <td class=\"tg-0pky\">JJ </td>\n",
    "    <td class=\"tg-0pky\">adjective (large) </td>\n",
    "  </tr>\n",
    "  <tr>\n",
    "    <td class=\"tg-0pky\">JJR </td>\n",
    "    <td class=\"tg-0pky\">adjective, comparative (larger) </td>\n",
    "  </tr>\n",
    "  <tr>\n",
    "    <td class=\"tg-0pky\">JJS </td>\n",
    "    <td class=\"tg-0pky\">adjective, superlative (largest) </td>\n",
    "  </tr>\n",
    "  <tr>\n",
    "    <td class=\"tg-0pky\">LS </td>\n",
    "    <td class=\"tg-0pky\">list market </td>\n",
    "  </tr>\n",
    "  <tr>\n",
    "    <td class=\"tg-0pky\">MD </td>\n",
    "    <td class=\"tg-0pky\">modal (could, will) </td>\n",
    "  </tr>\n",
    "  <tr>\n",
    "    <td class=\"tg-0pky\">NN </td>\n",
    "    <td class=\"tg-0pky\">noun, singular (cat, tree) </td>\n",
    "  </tr>\n",
    "  <tr>\n",
    "    <td class=\"tg-0pky\">NNS </td>\n",
    "    <td class=\"tg-0pky\">noun plural (desks) </td>\n",
    "  </tr>\n",
    "  <tr>\n",
    "    <td class=\"tg-0pky\">NNP </td>\n",
    "    <td class=\"tg-0pky\">proper noun, singular (sarah) </td>\n",
    "  </tr>\n",
    "  <tr>\n",
    "    <td class=\"tg-0pky\">NNPS </td>\n",
    "    <td class=\"tg-0pky\">proper noun, plural (indians or americans) </td>\n",
    "  </tr>\n",
    "  <tr>\n",
    "    <td class=\"tg-0pky\">PDT </td>\n",
    "    <td class=\"tg-0pky\">predeterminer (all, both, half) </td>\n",
    "  </tr>\n",
    "  <tr>\n",
    "    <td class=\"tg-0pky\">POS </td>\n",
    "    <td class=\"tg-0pky\">possessive ending (parent\\ 's) </td>\n",
    "  </tr>\n",
    "  <tr>\n",
    "    <td class=\"tg-0pky\">PRP </td>\n",
    "    <td class=\"tg-0pky\">personal pronoun (hers, herself, him,himself) </td>\n",
    "  </tr>\n",
    "  <tr>\n",
    "    <td class=\"tg-0pky\">PRP$ </td>\n",
    "    <td class=\"tg-0pky\">possessive pronoun (her, his, mine, my, our ) </td>\n",
    "  </tr>\n",
    "  <tr>\n",
    "    <td class=\"tg-0pky\">RB </td>\n",
    "    <td class=\"tg-0pky\">adverb (occasionally, swiftly) </td>\n",
    "  </tr>\n",
    "  <tr>\n",
    "    <td class=\"tg-0pky\">RBR </td>\n",
    "    <td class=\"tg-0pky\">adverb, comparative (greater) </td>\n",
    "  </tr>\n",
    "  <tr>\n",
    "    <td class=\"tg-0pky\">RBS </td>\n",
    "    <td class=\"tg-0pky\">adverb, superlative (biggest) </td>\n",
    "  </tr>\n",
    "  <tr>\n",
    "    <td class=\"tg-0pky\">RP </td>\n",
    "    <td class=\"tg-0pky\">particle (about) </td>\n",
    "  </tr>\n",
    "  <tr>\n",
    "    <td class=\"tg-0pky\">TO </td>\n",
    "    <td class=\"tg-0pky\">infinite marker (to) </td>\n",
    "  </tr>\n",
    "  <tr>\n",
    "    <td class=\"tg-0pky\">UH </td>\n",
    "    <td class=\"tg-0pky\">interjection (goodbye) </td>\n",
    "  </tr>\n",
    "  <tr>\n",
    "    <td class=\"tg-0pky\">VB </td>\n",
    "    <td class=\"tg-0pky\">verb (ask) </td>\n",
    "  </tr>\n",
    "  <tr>\n",
    "    <td class=\"tg-0pky\">VBG </td>\n",
    "    <td class=\"tg-0pky\">verb gerund (judging) </td>\n",
    "  </tr>\n",
    "  <tr>\n",
    "    <td class=\"tg-0pky\">VBD </td>\n",
    "    <td class=\"tg-0pky\">verb past tense (pleaded) </td>\n",
    "  </tr>\n",
    "  <tr>\n",
    "    <td class=\"tg-0pky\">VBN </td>\n",
    "    <td class=\"tg-0pky\">verb past participle (reunified) </td>\n",
    "  </tr>\n",
    "  <tr>\n",
    "    <td class=\"tg-0pky\">VBP </td>\n",
    "    <td class=\"tg-0pky\">verb, present tense not 3rd person singular(wrap) </td>\n",
    "  </tr>\n",
    "  <tr>\n",
    "    <td class=\"tg-0pky\">VBZ </td>\n",
    "    <td class=\"tg-0pky\">verb, present tense with 3rd person singular (bases) </td>\n",
    "  </tr>\n",
    "  <tr>\n",
    "    <td class=\"tg-0pky\">WDT </td>\n",
    "    <td class=\"tg-0pky\">wh-determiner (that, what) </td>\n",
    "  </tr>\n",
    "  <tr>\n",
    "    <td class=\"tg-0pky\">WP </td>\n",
    "    <td class=\"tg-0pky\">wh- pronoun (who) </td>\n",
    "  </tr>\n",
    "  <tr>\n",
    "    <td class=\"tg-0pky\">WRB </td>\n",
    "    <td class=\"tg-0pky\">wh- adverb (how) </td>\n",
    "  </tr>\n",
    "</tbody>\n",
    "</table>"
   ],
   "cell_type": "markdown",
   "metadata": {}
  },
  {
   "cell_type": "code",
   "execution_count": 10,
   "metadata": {},
   "outputs": [
    {
     "output_type": "stream",
     "name": "stdout",
     "text": [
      "Toll-like JJ\ncrucial JJ\ndue JJ\nlung-brain JJ\nventilated JJ\nMale JJ\nwild-type JJ\nspontaneous JJ\nspontaneous JJ\nmechanical JJ\nbehavioral JJ\nfear JJ\nhistological JJ\nreverse JJ\ninflammatory JJ\nenzyme-linked JJ\ndouble JJ\nimpaired JJ\nsevere JJ\nmild JJ\nlung JJ\nincreased JJ\nastrocyte JJ\nincreased JJ\ndue JJ\nlung-brain JJ\ndue JJ\nlung-brain JJ\nprolonged JJ\nlung-brain JJ\ndue JJ\nprolonged JJ\nnew JJ\nnovel JJ\nlong-term JJ\nventilated JJ\n"
     ]
    }
   ],
   "source": [
    "import nltk\n",
    "\n",
    "tokenized = nltk.word_tokenize(abstract)\n",
    "tagged = nltk.pos_tag(tokenized)\n",
    "\n",
    "# we want to strip adjectives (JJ.)\n",
    "for token, tag in tagged:\n",
    "    if 'JJ'in tag:\n",
    "        print(token, tag)"
   ]
  },
  {
   "source": [
    "#### removing things (NLTK)"
   ],
   "cell_type": "markdown",
   "metadata": {}
  },
  {
   "cell_type": "code",
   "execution_count": null,
   "metadata": {},
   "outputs": [],
   "source": [
    "import nltk\n",
    "\n",
    "stop_words = set(nlkt.corpus.stopwords.words('english'))"
   ]
  },
  {
   "source": [
    "# Using Spacy"
   ],
   "cell_type": "markdown",
   "metadata": {}
  },
  {
   "cell_type": "code",
   "execution_count": 37,
   "metadata": {},
   "outputs": [
    {
     "output_type": "stream",
     "name": "stdout",
     "text": [
      "{exhibited, supports, increased, demonstrate, exhibited, exhibited, aimed, induced, attenuated}\n[Toll-like receptor 4 (TLR4, a crucial receptor, the innate immune system, increasing evidence, its role, inflammation, stress, tissue, injury, injury]\n"
     ]
    }
   ],
   "source": [
    "import spacy\n",
    "from spacy.symbols import nsubj, VERB\n",
    "\n",
    "# Load English tokenizer, tagger, parser, NER and word vectors\n",
    "nlp = spacy.load(\"en_core_web_sm\")\n",
    "\n",
    "# Process whole documents\n",
    "\n",
    "doc = nlp(abstract)\n",
    "\n",
    "# Analyze syntax\n",
    "#print(\"Noun phrases:\", [chunk.text  for chunk in doc.noun_chunks])\n",
    "#print(\"Verbs:\", [token.lemma_ for token in doc if token.pos_ == \"VERB\"])\n",
    "verbs = set()\n",
    "for possible_subject in doc:\n",
    "    if possible_subject.dep == nsubj and possible_subject.head.pos == VERB:\n",
    "        verbs.add(possible_subject.head)\n",
    "print(verbs)\n",
    "\n",
    "print([token for token in doc.noun_chunks][:7])"
   ]
  },
  {
   "cell_type": "code",
   "execution_count": null,
   "metadata": {},
   "outputs": [],
   "source": [
    "# TO DO: SPACY DEPENDENCY TREE\n",
    "# https://demo.allennlp.org/dependency-parsing/MjYwMTI3OA==\n",
    "# https://demo.allennlp.org/dependency-parsing/MjYwMTI4MQ=="
   ]
  }
 ]
}